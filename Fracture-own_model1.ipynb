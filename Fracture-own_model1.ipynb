{
  "cells": [
    {
      "cell_type": "code",
      "execution_count": 1,
      "metadata": {
        "id": "Lh-0YEY-zsqO"
      },
      "outputs": [],
      "source": [
        "!mkdir -p ~/.kaggle\n",
        "!cp kaggle.json ~/.kaggle/"
      ]
    },
    {
      "cell_type": "code",
      "execution_count": 2,
      "metadata": {
        "id": "jwZ32SflMoll"
      },
      "outputs": [],
      "source": [
        "import tensorflow as tf\n",
        "from tensorflow import keras\n",
        "from keras import Sequential\n",
        "from keras.layers import Dense,Conv2D,MaxPooling2D,Flatten,BatchNormalization,Dropout,AveragePooling2D\n",
        "from keras.layers import Activation, Dropout, Flatten, Dense, GaussianNoise, GlobalMaxPooling2D\n",
        "import tensorflow as tf\n",
        "import matplotlib.pyplot as plt\n",
        "import numpy as np\n",
        "import cv2\n",
        "from sklearn import datasets\n",
        "from sklearn.ensemble import RandomForestClassifier\n",
        "from sklearn.model_selection import validation_curve"
      ]
    },
    {
      "cell_type": "code",
      "execution_count": 3,
      "metadata": {
        "colab": {
          "base_uri": "https://localhost:8080/"
        },
        "id": "n9ZDW4-Mz7Of",
        "outputId": "4318a10b-70ab-4f15-93c5-c531a1dd570b"
      },
      "outputs": [
        {
          "output_type": "stream",
          "name": "stdout",
          "text": [
            "Warning: Your Kaggle API key is readable by other users on this system! To fix this, you can run 'chmod 600 /root/.kaggle/kaggle.json'\n",
            "bone-fracture-detection-using-xrays.zip: Skipping, found more recently modified local copy (use --force to force download)\n"
          ]
        }
      ],
      "source": [
        "#Downloading dataset\n",
        "!kaggle datasets download -d vuppalaadithyasairam/bone-fracture-detection-using-xrays"
      ]
    },
    {
      "cell_type": "code",
      "execution_count": 4,
      "metadata": {
        "id": "PaxO7oAXz-a0"
      },
      "outputs": [],
      "source": [
        "import zipfile\n",
        "zip_ref = zipfile.ZipFile('/content/bone-fracture-detection-using-xrays.zip', 'r')\n",
        "zip_ref.extractall('/content')\n",
        "zip_ref.close()"
      ]
    },
    {
      "cell_type": "code",
      "execution_count": 5,
      "metadata": {
        "colab": {
          "base_uri": "https://localhost:8080/"
        },
        "id": "_eyE3rRc0EMF",
        "outputId": "030e6d75-37c1-43ed-ad30-223217951b0a"
      },
      "outputs": [
        {
          "output_type": "stream",
          "name": "stdout",
          "text": [
            "Found 8863 files belonging to 2 classes.\n",
            "Found 600 files belonging to 2 classes.\n"
          ]
        }
      ],
      "source": [
        "#Loading the images\n",
        "x_train= keras.utils.image_dataset_from_directory(\n",
        "    directory = '/content/archive (6)/train',\n",
        "    labels='inferred',\n",
        "    label_mode = 'int',\n",
        "    batch_size=100,\n",
        "    image_size=(256,256)\n",
        ")\n",
        "\n",
        "x_test= keras.utils.image_dataset_from_directory(\n",
        "    directory = '/content/archive (6)/val',\n",
        "    labels='inferred',\n",
        "    label_mode = 'int',\n",
        "    batch_size=100,\n",
        "    image_size=(256,256)\n",
        ")"
      ]
    },
    {
      "cell_type": "code",
      "execution_count": 6,
      "metadata": {
        "colab": {
          "base_uri": "https://localhost:8080/"
        },
        "id": "wQQii809Omh_",
        "outputId": "b78f498c-7caf-4823-d2d9-1eb822f9002a"
      },
      "outputs": [
        {
          "output_type": "execute_result",
          "data": {
            "text/plain": [
              "['fractured', 'not fractured']"
            ]
          },
          "metadata": {},
          "execution_count": 6
        }
      ],
      "source": [
        "class_names = x_train.class_names\n",
        "class_names"
      ]
    },
    {
      "cell_type": "code",
      "execution_count": 9,
      "metadata": {
        "id": "gxMa58Y-0PwT"
      },
      "outputs": [],
      "source": [
        "# Normalizing\n",
        "def process(image,label):\n",
        "    image = tf.cast(image/255. ,tf.float32)\n",
        "    return image,label\n",
        "\n",
        "x_train = x_train.map(process)\n",
        "x_test = x_test.map(process)"
      ]
    },
    {
      "cell_type": "code",
      "execution_count": 10,
      "metadata": {
        "id": "EYo4lIl2M6aO"
      },
      "outputs": [],
      "source": [
        "input_shape = (256, 256, 3)"
      ]
    },
    {
      "cell_type": "code",
      "execution_count": 11,
      "metadata": {
        "id": "_VC8ejjSDS7_"
      },
      "outputs": [],
      "source": [
        "#Model\n",
        "model = Sequential()\n",
        "model.add(Conv2D(32, (2, 2),activation='relu', input_shape=input_shape))\n",
        "model.add(BatchNormalization())\n",
        "model.add(MaxPooling2D(pool_size=(2, 2)))\n",
        "model.add(Dropout(0.2))\n",
        "\n",
        "model.add(Conv2D(32, (2, 2),activation='relu'))\n",
        "model.add(BatchNormalization())\n",
        "model.add(MaxPooling2D(pool_size=(2, 2)))\n",
        "model.add(Dropout(0.2))\n",
        "\n",
        "model.add(Conv2D(64, (2, 2),activation='relu'))\n",
        "model.add(BatchNormalization())\n",
        "model.add(MaxPooling2D(pool_size=(2, 2)))\n",
        "model.add(Dropout(0.2))\n",
        "\n",
        "model.add(Flatten())\n",
        "\n",
        "model.add(Dense(64,activation='relu'))\n",
        "model.add(Dropout(0.5))\n",
        "\n",
        "model.add(Dense(1,activation='sigmoid'))"
      ]
    },
    {
      "cell_type": "code",
      "execution_count": 12,
      "metadata": {
        "colab": {
          "base_uri": "https://localhost:8080/"
        },
        "id": "ElJNhexgB1v5",
        "outputId": "6fb7fa4e-b29a-42ef-f47c-7940c1f62d3f"
      },
      "outputs": [
        {
          "output_type": "stream",
          "name": "stdout",
          "text": [
            "Model: \"sequential\"\n",
            "_________________________________________________________________\n",
            " Layer (type)                Output Shape              Param #   \n",
            "=================================================================\n",
            " conv2d (Conv2D)             (None, 255, 255, 32)      416       \n",
            "                                                                 \n",
            " batch_normalization (Batch  (None, 255, 255, 32)      128       \n",
            " Normalization)                                                  \n",
            "                                                                 \n",
            " max_pooling2d (MaxPooling2  (None, 127, 127, 32)      0         \n",
            " D)                                                              \n",
            "                                                                 \n",
            " dropout (Dropout)           (None, 127, 127, 32)      0         \n",
            "                                                                 \n",
            " conv2d_1 (Conv2D)           (None, 126, 126, 32)      4128      \n",
            "                                                                 \n",
            " batch_normalization_1 (Bat  (None, 126, 126, 32)      128       \n",
            " chNormalization)                                                \n",
            "                                                                 \n",
            " max_pooling2d_1 (MaxPoolin  (None, 63, 63, 32)        0         \n",
            " g2D)                                                            \n",
            "                                                                 \n",
            " dropout_1 (Dropout)         (None, 63, 63, 32)        0         \n",
            "                                                                 \n",
            " conv2d_2 (Conv2D)           (None, 62, 62, 64)        8256      \n",
            "                                                                 \n",
            " batch_normalization_2 (Bat  (None, 62, 62, 64)        256       \n",
            " chNormalization)                                                \n",
            "                                                                 \n",
            " max_pooling2d_2 (MaxPoolin  (None, 31, 31, 64)        0         \n",
            " g2D)                                                            \n",
            "                                                                 \n",
            " dropout_2 (Dropout)         (None, 31, 31, 64)        0         \n",
            "                                                                 \n",
            " flatten (Flatten)           (None, 61504)             0         \n",
            "                                                                 \n",
            " dense (Dense)               (None, 64)                3936320   \n",
            "                                                                 \n",
            " dropout_3 (Dropout)         (None, 64)                0         \n",
            "                                                                 \n",
            " dense_1 (Dense)             (None, 1)                 65        \n",
            "                                                                 \n",
            "=================================================================\n",
            "Total params: 3949697 (15.07 MB)\n",
            "Trainable params: 3949441 (15.07 MB)\n",
            "Non-trainable params: 256 (1.00 KB)\n",
            "_________________________________________________________________\n"
          ]
        }
      ],
      "source": [
        "model.summary()"
      ]
    },
    {
      "cell_type": "code",
      "execution_count": 13,
      "metadata": {
        "id": "r2RfYW9a0ih2"
      },
      "outputs": [],
      "source": [
        "model.compile(optimizer=\"adam\", loss=\"binary_crossentropy\", metrics=[\"accuracy\"])"
      ]
    },
    {
      "cell_type": "code",
      "execution_count": 14,
      "metadata": {
        "colab": {
          "base_uri": "https://localhost:8080/"
        },
        "id": "HHBFNFHCtzLu",
        "outputId": "a0e3d0ea-abe7-4a42-8c50-164f3cb8af47"
      },
      "outputs": [
        {
          "output_type": "stream",
          "name": "stdout",
          "text": [
            "Epoch 1/10\n",
            "89/89 [==============================] - 1055s 12s/step - loss: 1.4677 - accuracy: 0.5635 - val_loss: 30.5254 - val_accuracy: 0.4000\n",
            "Epoch 2/10\n",
            "89/89 [==============================] - 1061s 12s/step - loss: 0.6262 - accuracy: 0.6028 - val_loss: 25.9065 - val_accuracy: 0.4000\n",
            "Epoch 3/10\n",
            "89/89 [==============================] - 1052s 12s/step - loss: 0.5976 - accuracy: 0.6409 - val_loss: 12.5752 - val_accuracy: 0.5333\n",
            "Epoch 4/10\n",
            "89/89 [==============================] - 1054s 12s/step - loss: 0.5620 - accuracy: 0.6694 - val_loss: 9.2154 - val_accuracy: 0.5833\n",
            "Epoch 5/10\n",
            "89/89 [==============================] - 1013s 11s/step - loss: 0.5387 - accuracy: 0.6911 - val_loss: 11.3421 - val_accuracy: 0.5450\n",
            "Epoch 6/10\n",
            "89/89 [==============================] - 1017s 11s/step - loss: 0.5275 - accuracy: 0.7063 - val_loss: 8.8051 - val_accuracy: 0.4450\n",
            "Epoch 7/10\n",
            "89/89 [==============================] - 994s 11s/step - loss: 0.4990 - accuracy: 0.7238 - val_loss: 7.9017 - val_accuracy: 0.3683\n",
            "Epoch 8/10\n",
            "89/89 [==============================] - 984s 11s/step - loss: 0.4583 - accuracy: 0.7493 - val_loss: 4.7075 - val_accuracy: 0.4917\n",
            "Epoch 9/10\n",
            "89/89 [==============================] - 1014s 11s/step - loss: 0.4151 - accuracy: 0.7783 - val_loss: 2.7421 - val_accuracy: 0.5233\n",
            "Epoch 10/10\n",
            "89/89 [==============================] - 1010s 11s/step - loss: 0.3920 - accuracy: 0.7984 - val_loss: 2.3889 - val_accuracy: 0.6300\n"
          ]
        }
      ],
      "source": [
        "history = model.fit(x_train,epochs=10, batch_size=100, validation_data=x_test)"
      ]
    }
  ],
  "metadata": {
    "colab": {
      "provenance": []
    },
    "kernelspec": {
      "display_name": "Python 3",
      "name": "python3"
    },
    "language_info": {
      "name": "python"
    }
  },
  "nbformat": 4,
  "nbformat_minor": 0
}